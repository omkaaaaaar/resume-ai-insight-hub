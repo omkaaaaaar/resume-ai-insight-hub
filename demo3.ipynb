{
 "cells": [
  {
   "cell_type": "code",
   "execution_count": 2,
   "id": "47f639bf-f279-4221-b0c0-fcf3c24ae07f",
   "metadata": {},
   "outputs": [
    {
     "name": "stdout",
     "output_type": "stream",
     "text": [
      "Collecting pymupdf\n",
      "  Downloading pymupdf-1.25.5-cp39-abi3-win_amd64.whl.metadata (3.4 kB)\n",
      "Downloading pymupdf-1.25.5-cp39-abi3-win_amd64.whl (16.6 MB)\n",
      "   ---------------------------------------- 0.0/16.6 MB ? eta -:--:--\n",
      "    --------------------------------------- 0.3/16.6 MB ? eta -:--:--\n",
      "   - -------------------------------------- 0.8/16.6 MB 2.0 MB/s eta 0:00:08\n",
      "   -- ------------------------------------- 1.0/16.6 MB 1.9 MB/s eta 0:00:09\n",
      "   ---- ----------------------------------- 1.8/16.6 MB 2.4 MB/s eta 0:00:07\n",
      "   ----- ---------------------------------- 2.4/16.6 MB 2.4 MB/s eta 0:00:06\n",
      "   ------ --------------------------------- 2.9/16.6 MB 2.5 MB/s eta 0:00:06\n",
      "   -------- ------------------------------- 3.4/16.6 MB 2.5 MB/s eta 0:00:06\n",
      "   ---------- ----------------------------- 4.2/16.6 MB 2.6 MB/s eta 0:00:05\n",
      "   ------------ --------------------------- 5.0/16.6 MB 2.7 MB/s eta 0:00:05\n",
      "   ------------- -------------------------- 5.8/16.6 MB 2.8 MB/s eta 0:00:04\n",
      "   --------------- ------------------------ 6.3/16.6 MB 2.9 MB/s eta 0:00:04\n",
      "   ----------------- ---------------------- 7.1/16.6 MB 2.9 MB/s eta 0:00:04\n",
      "   ------------------- -------------------- 8.1/16.6 MB 3.0 MB/s eta 0:00:03\n",
      "   --------------------- ------------------ 8.9/16.6 MB 3.1 MB/s eta 0:00:03\n",
      "   ----------------------- ---------------- 9.7/16.6 MB 3.2 MB/s eta 0:00:03\n",
      "   ------------------------- -------------- 10.7/16.6 MB 3.3 MB/s eta 0:00:02\n",
      "   --------------------------- ------------ 11.5/16.6 MB 3.3 MB/s eta 0:00:02\n",
      "   ----------------------------- ---------- 12.3/16.6 MB 3.3 MB/s eta 0:00:02\n",
      "   ------------------------------ --------- 12.8/16.6 MB 3.3 MB/s eta 0:00:02\n",
      "   -------------------------------- ------- 13.6/16.6 MB 3.3 MB/s eta 0:00:01\n",
      "   ---------------------------------- ----- 14.4/16.6 MB 3.3 MB/s eta 0:00:01\n",
      "   ------------------------------------ --- 14.9/16.6 MB 3.3 MB/s eta 0:00:01\n",
      "   ------------------------------------- -- 15.7/16.6 MB 3.3 MB/s eta 0:00:01\n",
      "   ---------------------------------------  16.3/16.6 MB 3.3 MB/s eta 0:00:01\n",
      "   ---------------------------------------- 16.6/16.6 MB 3.2 MB/s eta 0:00:00\n",
      "Installing collected packages: pymupdf\n",
      "Successfully installed pymupdf-1.25.5\n"
     ]
    }
   ],
   "source": [
    "! pip install pymupdf"
   ]
  },
  {
   "cell_type": "code",
   "execution_count": null,
   "id": "bed1765b-3f9a-4b0a-a319-5e9c44f85ba9",
   "metadata": {},
   "outputs": [],
   "source": [
    "# 📂 Step 1: Import Libraries\n",
    "import fitz  # PyMuPDF\n",
    "import spacy\n",
    "import pandas as pd\n",
    "from sklearn.feature_extraction.text import CountVectorizer\n",
    "from sklearn.metrics.pairwise import cosine_similarity\n",
    "from IPython.display import display\n",
    "import tkinter as tk\n",
    "from tkinter import filedialog\n",
    "\n",
    "# ✅ Load spaCy Model\n",
    "nlp = spacy.load(\"en_core_web_sm\")"
   ]
  },
  {
   "cell_type": "code",
   "execution_count": null,
   "id": "7b29f585-5cdb-4086-93a3-a79ee6375a3a",
   "metadata": {},
   "outputs": [],
   "source": [
    "# Module 1: Read and Print Resume PDF\n",
    "import fitz  # PyMuPDF\n",
    "from pathlib import Path\n",
    "\n",
    "# Define the path to your resume PDF\n",
    "pdf_path = \"TE_Resume.pdf\"  # <- Change this to your actual PDF path\n",
    "\n",
    "# Open the PDF\n",
    "doc = fitz.open(pdf_path)\n",
    "\n",
    "# Extract and print text from all pages\n",
    "for page_num, page in enumerate(doc, start=1):\n",
    "    resume_text = page.get_text()\n",
    "    text = resume_text\n",
    "    print(f\"\\n--- Page {page_num} ---\\n\")\n",
    "    print(resume_text)"
   ]
  },
  {
   "cell_type": "code",
   "execution_count": null,
   "id": "6621640a-a8be-467e-94bd-885b43e8c7d6",
   "metadata": {},
   "outputs": [],
   "source": []
  }
 ],
 "metadata": {
  "kernelspec": {
   "display_name": "Python 3 (ipykernel)",
   "language": "python",
   "name": "python3"
  },
  "language_info": {
   "codemirror_mode": {
    "name": "ipython",
    "version": 3
   },
   "file_extension": ".py",
   "mimetype": "text/x-python",
   "name": "python",
   "nbconvert_exporter": "python",
   "pygments_lexer": "ipython3",
   "version": "3.12.7"
  }
 },
 "nbformat": 4,
 "nbformat_minor": 5
}
